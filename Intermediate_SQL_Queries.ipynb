{
  "nbformat": 4,
  "nbformat_minor": 0,
  "metadata": {
    "colab": {
      "provenance": []
    },
    "kernelspec": {
      "name": "python3",
      "display_name": "Python 3"
    },
    "language_info": {
      "name": "python"
    }
  },
  "cells": [
    {
      "cell_type": "markdown",
      "source": [
        "\n",
        "\n",
        "<h1 align=\"center\">\n",
        "    NSDC Data Science Projects\n",
        "</h1>\n",
        "\n",
        "<h2 align=\"center\">\n",
        "    Project: Intermediate SQL Queries - #2\n",
        "</h2>\n",
        "\n",
        "<h3 align=\"center\">\n",
        "    Name: Donovan Brown\n",
        "</h3>\n"
      ],
      "metadata": {
        "id": "tt70feOIfcQ0"
      }
    },
    {
      "cell_type": "markdown",
      "source": [
        "**Project Description:**\n",
        "\n",
        "To work with the New York City Airbnb dataset in this project, you'll need to create and connect to an SQLite database as seen in the steps within this notebook.\n",
        "\n",
        "**Key Features**\n",
        "\n",
        "- Practical SQL exercises with step-by-step instructions.\n",
        "- Real-world datasets for hands-on experience.\n",
        "- Comprehensive explanations of SQL queries and concepts.\n",
        "- Interactive coding examples and challenges.\n",
        "\n",
        "**Dataset**\n",
        "- You can find the New York City Airbnb dataset on Kaggle: [New York City Airbnb Dataset](https://www.kaggle.com/datasets/dgomonov/new-york-city-airbnb-open-data)\n",
        "- Download the dataset from the provided link and save it as 'AB_NYC_2019.csv' on your computer.\n",
        "- On colab, click on the \"Upload\" button and select the 'AB_NYC_2019.csv' file from your local computer."
      ],
      "metadata": {
        "id": "35fgH_hXgAUU"
      }
    },
    {
      "cell_type": "markdown",
      "source": [
        "## Introduction\n",
        "This SQL project is designed for those who want to practice writing SQL queries using a real-world dataset. In this project, we will work with the New York City Airbnb dataset. The main goal is to practice SQL syntax and intermediate data analysis tasks. Make sure to complete the code where there is a 'TODO' sign. Hints are provided along the way.\n",
        "\n",
        "## Table of Contents\n",
        "1. [Libraries and Database Setup](#database-setup)\n",
        "2. [Loading the Dataset](#loading-dataset)\n",
        "3. [SQL Queries](#sql-queries)\n",
        "4. [Closing Connection](#closing-connection)\n",
        "5. [Summary of Intermediate SQL Commands](#summary-commands)\n",
        "\n",
        "# Section 1: Libraries and Database Setup <a name=\"database-setup\"></a>\n",
        "\n",
        "### Task 1.1: Import Libraries\n",
        "Let's start by importing the necessary libraries.\n"
      ],
      "metadata": {
        "id": "I4xHzjkqigQk"
      }
    },
    {
      "cell_type": "code",
      "source": [
        "# Connect to Google Drive\n",
        "from google.colab import drive\n",
        "drive.mount('/content/drive')"
      ],
      "metadata": {
        "id": "vuwWeEnIiirc",
        "colab": {
          "base_uri": "https://localhost:8080/"
        },
        "outputId": "a0fd145d-e8d1-463e-e1b4-dd787ebc7d99"
      },
      "execution_count": 51,
      "outputs": [
        {
          "output_type": "stream",
          "name": "stdout",
          "text": [
            "Drive already mounted at /content/drive; to attempt to forcibly remount, call drive.mount(\"/content/drive\", force_remount=True).\n"
          ]
        }
      ]
    },
    {
      "cell_type": "code",
      "source": [
        "import pandas as pd\n",
        "import numpy as np\n",
        "import sqlite3"
      ],
      "metadata": {
        "id": "NnR6oXHNG6Ff"
      },
      "execution_count": 66,
      "outputs": []
    },
    {
      "cell_type": "markdown",
      "source": [
        "### Task 1.2: Connect to the Database\n",
        "\n",
        "Next, establish a connection to the SQLite database named 'airbnb.db'.\n",
        "Use the sqlite3 library to create a connection object and store it in a variable called 'conn'.\n"
      ],
      "metadata": {
        "id": "qSERoLykixcz"
      }
    },
    {
      "cell_type": "code",
      "source": [
        "# Completed\n",
        "\n",
        "# Connect to the SQLite database\n",
        "conn = sqlite3.connect('airbnb.db')\n",
        "cursor = conn.cursor()"
      ],
      "metadata": {
        "id": "8G9tDLd2iyq7"
      },
      "execution_count": 67,
      "outputs": []
    },
    {
      "cell_type": "markdown",
      "source": [
        "# Section 2: Loading the Dataset <a name=\"loading-dataset\"></a>"
      ],
      "metadata": {
        "id": "gCE_OEk5BrF2"
      }
    },
    {
      "cell_type": "markdown",
      "source": [
        "### Task 2.1: Load the Dataset\n",
        "- You will work with the 'listings' table from the New York City Airbnb dataset.\n",
        "- Load the dataset from the CSV file 'AB_NYC_2019.csv' into a DataFrame named 'df'.\n",
        "- Then, import the DataFrame into the 'listings' table in the database using the to_sql() method.\n",
        "\n",
        "\\\\\n",
        "\n",
        "Hint: Use the read_csv() method from pandas to read the CSV file.\n"
      ],
      "metadata": {
        "id": "_bXjXLHli0aE"
      }
    },
    {
      "cell_type": "code",
      "source": [
        "# Completed\n",
        "\n",
        "# Load the dataset into the SQLite database\n",
        "data_path = '/content/drive/MyDrive/AB_NYC_2019.csv'\n",
        "df = pd.read_csv(data_path)\n",
        "df.to_sql('listings', conn, if_exists='replace', index=False)"
      ],
      "metadata": {
        "id": "blwNI_PEi5FT",
        "colab": {
          "base_uri": "https://localhost:8080/"
        },
        "outputId": "893fc613-33b3-4f00-fb5f-1c3abf651ef6"
      },
      "execution_count": 68,
      "outputs": [
        {
          "output_type": "execute_result",
          "data": {
            "text/plain": [
              "48895"
            ]
          },
          "metadata": {},
          "execution_count": 68
        }
      ]
    },
    {
      "cell_type": "markdown",
      "source": [
        "# Section 3: Intermediate SQL Tasks <a name=\"sql-queries\"></a>\n",
        "\n",
        "Query the database: Write SQL queries to analyze the data in the SQLite database. You can use the sqlite3 library to execute the queries and fetch the results."
      ],
      "metadata": {
        "id": "1j3xgaK4Ck3S"
      }
    },
    {
      "cell_type": "markdown",
      "source": [
        "### Task 3.1: Using Subquery for Aggregation\n",
        "- Find listings with a price greater than or equal to the maximum price of entire home/apartment listings."
      ],
      "metadata": {
        "id": "eKaLdB8Fi7Bh"
      }
    },
    {
      "cell_type": "code",
      "source": [
        "# TODO: Complete the query by adding the SELECT, WHERE, and LIMIT statement\n",
        "\n",
        "query = \"SELECT id, name, neighbourhood_group, price FROM listings WHERE price >= (SELECT MAX(price) FROM listings) LIMIT 5;\"\n",
        "\n",
        "#-- Select specific columns (id, name, neighbourhood_group, price) from listings\n",
        "\n",
        "\n",
        "#-- where the price is greater than or equal to the maximum price among entire home/apartment listings\n",
        "\n",
        "\n",
        "#-- Limit the results to display only the top 5 listings\n",
        "\n"
      ],
      "metadata": {
        "id": "gqe3KmtUCr9V"
      },
      "execution_count": 69,
      "outputs": []
    },
    {
      "cell_type": "code",
      "source": [
        "# Completed\n",
        "\n",
        "result = pd.read_sql_query(query, conn)\n",
        "print(\"\\nExample 2 - Using Subquery for Aggregation:\")\n",
        "print(result)"
      ],
      "metadata": {
        "id": "6fib2hIqjKWr",
        "colab": {
          "base_uri": "https://localhost:8080/"
        },
        "outputId": "5f3f08ba-fa86-42d0-c563-c44e1891db8a"
      },
      "execution_count": 70,
      "outputs": [
        {
          "output_type": "stream",
          "name": "stdout",
          "text": [
            "\n",
            "Example 2 - Using Subquery for Aggregation:\n",
            "         id                                             name  \\\n",
            "0   7003697              Furnished room in Astoria apartment   \n",
            "1  13894339  Luxury 1 bedroom apt. -stunning Manhattan views   \n",
            "2  22436899                              1-BR Lincoln Center   \n",
            "\n",
            "  neighbourhood_group  price  \n",
            "0              Queens  10000  \n",
            "1            Brooklyn  10000  \n",
            "2           Manhattan  10000  \n"
          ]
        }
      ]
    },
    {
      "cell_type": "markdown",
      "source": [
        "### Task 3.2: Using CTE for Clarity\n",
        "- Create a [Common Table Expression (CTE)](https://learnsql.com/blog/what-is-common-table-expression/) for high-priced listings and retrieve details."
      ],
      "metadata": {
        "id": "0O4Nfb9yC61D"
      }
    },
    {
      "cell_type": "code",
      "source": [
        "# TODO: Complete the query by first finishing the CTE query  by adding the WHERE statement. Then complete the following SELECT AND FROM statements.\n",
        "\n",
        "query = \"WITH high_price_listings AS ( SELECT * FROM listings WHERE price > 500) SELECT id, name, neighbourhood_group, price FROM listings LIMIT 5\"\n",
        "\n",
        "#-- Create a common table expression (CTE) to select high-priced listings greater than 500\n",
        "\n",
        "#-- Select specific columns (id, name, neighbourhood_group, price) from high-priced listings\n",
        "\n",
        "#-- Limit the results to display only the top 5 listings\n",
        "\n"
      ],
      "metadata": {
        "id": "4fJa4Bt6C7Nw"
      },
      "execution_count": 71,
      "outputs": []
    },
    {
      "cell_type": "code",
      "source": [
        "# Completed\n",
        "\n",
        "result = pd.read_sql_query(query, conn)\n",
        "print(\"\\nExample 3 - Using CTE for Clarity:\")\n",
        "print(result)"
      ],
      "metadata": {
        "id": "9IJ5ReZblaE5",
        "collapsed": true,
        "colab": {
          "base_uri": "https://localhost:8080/"
        },
        "outputId": "1bc16f5e-1e4d-45a6-f4ad-814ca553c80f"
      },
      "execution_count": 72,
      "outputs": [
        {
          "output_type": "stream",
          "name": "stdout",
          "text": [
            "\n",
            "Example 3 - Using CTE for Clarity:\n",
            "     id                                              name neighbourhood_group  \\\n",
            "0  2539                Clean & quiet apt home by the park            Brooklyn   \n",
            "1  2595                             Skylit Midtown Castle           Manhattan   \n",
            "2  3647               THE VILLAGE OF HARLEM....NEW YORK !           Manhattan   \n",
            "3  3831                   Cozy Entire Floor of Brownstone            Brooklyn   \n",
            "4  5022  Entire Apt: Spacious Studio/Loft by central park           Manhattan   \n",
            "\n",
            "   price  \n",
            "0    149  \n",
            "1    225  \n",
            "2    150  \n",
            "3     89  \n",
            "4     80  \n"
          ]
        }
      ]
    },
    {
      "cell_type": "markdown",
      "source": [
        "### Task 3.3: Using GROUP BY and HAVING\n",
        "-  Count the number of listings in each neighbourhood_group with more than 1000 listings."
      ],
      "metadata": {
        "id": "uULLKoO0DEou"
      }
    },
    {
      "cell_type": "code",
      "source": [
        "# TODO: Complete the GROUP_BY and the HAVING COUNT statement to 1000 listings\n",
        "\n",
        "query = \"\"\"\n",
        "SELECT neighbourhood_group, COUNT(*) AS num_listings\n",
        "FROM listings\n",
        "GROUP BY neighbourhood_group\n",
        "HAVING COUNT(*) > 1000\n",
        "\"\"\""
      ],
      "metadata": {
        "id": "EDnyQuz1DDin"
      },
      "execution_count": 59,
      "outputs": []
    },
    {
      "cell_type": "code",
      "source": [
        "# Completed\n",
        "\n",
        "result = pd.read_sql_query(query, conn)\n",
        "print(\"\\nExample 4 - Using GROUP BY and HAVING:\")\n",
        "print(result)"
      ],
      "metadata": {
        "id": "ZGIUx6pn1ZpM",
        "colab": {
          "base_uri": "https://localhost:8080/"
        },
        "outputId": "09647fb9-ed70-4959-9da3-d3a9be8eb90f"
      },
      "execution_count": 60,
      "outputs": [
        {
          "output_type": "stream",
          "name": "stdout",
          "text": [
            "\n",
            "Example 4 - Using GROUP BY and HAVING:\n",
            "  neighbourhood_group  num_listings\n",
            "0               Bronx          1091\n",
            "1            Brooklyn         20104\n",
            "2           Manhattan         21661\n",
            "3              Queens          5666\n"
          ]
        }
      ]
    },
    {
      "cell_type": "markdown",
      "source": [
        "### Task 3.4: Using [CASE Statements](https://www.w3schools.com/sql/sql_case.asp)\n",
        "- Calculate the count of listings in each neighborhood group categorized into three price ranges: cheap, moderate, and expensive.\n"
      ],
      "metadata": {
        "id": "yPvuIfq7DMhj"
      }
    },
    {
      "cell_type": "code",
      "source": [
        "# TODO: Complete the third case switch statement for expensive_listings and insert GROUP BY statement\n",
        "\n",
        "query = \"\"\"\n",
        "\n",
        "-- Select the neighborhood_group and use conditional aggregation to count listings in price ranges\n",
        "SELECT neighbourhood_group,\n",
        "       SUM(CASE WHEN price <= 100 THEN 1 ELSE 0 END) AS cheap_listings,\n",
        "       SUM(CASE WHEN price > 100 AND price <= 200 THEN 1 ELSE 0 END) AS moderate_listings,\n",
        "       SUM(CASE WHEN price > 200 THEN 1 ELSE 0 END) AS expensive_listings\n",
        "FROM listings\n",
        "GROUP BY neighbourhood_group\n",
        "\n",
        "-- Group the data by neighborhood_group to get counts for each group\n",
        "\n",
        "\"\"\""
      ],
      "metadata": {
        "id": "U1r32q1rDOil"
      },
      "execution_count": 61,
      "outputs": []
    },
    {
      "cell_type": "code",
      "source": [
        "# Completed\n",
        "\n",
        "result = pd.read_sql_query(query, conn)\n",
        "print(\"\\nExample 5 - Using CASE Statements:\")\n",
        "print(result)"
      ],
      "metadata": {
        "id": "s93h67wkDR6r",
        "colab": {
          "base_uri": "https://localhost:8080/"
        },
        "outputId": "f95aff31-88ae-4657-869b-19f1f4580011"
      },
      "execution_count": 62,
      "outputs": [
        {
          "output_type": "stream",
          "name": "stdout",
          "text": [
            "\n",
            "Example 5 - Using CASE Statements:\n",
            "  neighbourhood_group  cheap_listings  moderate_listings  expensive_listings\n",
            "0               Bronx             865                181                  45\n",
            "1            Brooklyn           11771               6278                2055\n",
            "2           Manhattan            6921               8803                5937\n",
            "3              Queens            4101               1243                 322\n",
            "4       Staten Island             270                 78                  25\n"
          ]
        }
      ]
    },
    {
      "cell_type": "markdown",
      "source": [
        "### Task 3.5: Using [Self-Join](https://www.w3schools.com/sql/sql_join_self.asp) for Data Comparison\n",
        "- Compare the average price of each neighborhood's listings with the overall average price, highlighting neighborhoods with prices higher than the overall average."
      ],
      "metadata": {
        "id": "nIWy051Y2j7h"
      }
    },
    {
      "cell_type": "code",
      "source": [
        "# TODO: Complete the CTE WITH statement, insert SELECT statement, and insert the self-inner join (becareful with parenthesis grouping -- there are two AS assignments)\n",
        "\n",
        "query = \"\"\"\n",
        "-- Create a common table expression (CTE) to calculate the average prices for each neighborhood\n",
        "\n",
        "WITH avg_prices AS (\n",
        "    SELECT neighbourhood, AVG(price) AS avg_price\n",
        "    FROM listings\n",
        "    GROUP BY neighbourhood\n",
        ")\n",
        "\n",
        "-- Select the neighborhood, its average price, and the overall average price\n",
        "SELECT a.neighbourhood, a.avg_price, b.avg_price AS overall_avg_price\n",
        "FROM avg_prices AS a\n",
        "\n",
        "-- Self-join with a subquery to retrieve the overall average price\n",
        "INNER JOIN (SELECT AVG(price) AS avg_price FROM listings) AS b\n",
        "\n",
        "-- Filter for neighborhoods with average prices higher than the overall average\n",
        "WHERE a.avg_price > b.avg_price\n",
        "\"\"\"\n",
        "\n",
        "# Create a common table expression (CTE) to calculate the average prices for each neighborhood\n",
        "\n",
        "# Select the neighborhood, its average price, and the overall average price\n",
        "\n",
        "# Self-join with a subquery to retrieve the overall average price\n",
        "\n",
        "# Filter for neighborhoods with average prices higher than the overall average\n",
        "\n"
      ],
      "metadata": {
        "id": "gygsx68g2YEX"
      },
      "execution_count": 63,
      "outputs": []
    },
    {
      "cell_type": "code",
      "source": [
        "# Completed\n",
        "\n",
        "result = pd.read_sql_query(query, conn)\n",
        "print(\"Example 7 - Using Self-Join for Data Comparison:\")\n",
        "print(result)"
      ],
      "metadata": {
        "id": "BOZr1Ty02YHk",
        "colab": {
          "base_uri": "https://localhost:8080/"
        },
        "outputId": "81a37ee3-32ed-4176-fbca-7b6168297b0e"
      },
      "execution_count": 64,
      "outputs": [
        {
          "output_type": "stream",
          "name": "stdout",
          "text": [
            "Example 7 - Using Self-Join for Data Comparison:\n",
            "         neighbourhood   avg_price  overall_avg_price\n",
            "0              Arverne  171.779221         152.720687\n",
            "1    Battery Park City  367.557143         152.720687\n",
            "2              Bayside  157.948718         152.720687\n",
            "3         Belle Harbor  171.500000         152.720687\n",
            "4          Boerum Hill  176.135593         152.720687\n",
            "5         Breezy Point  213.333333         152.720687\n",
            "6     Brooklyn Heights  209.064935         152.720687\n",
            "7      Carroll Gardens  175.914163         152.720687\n",
            "8              Chelsea  249.738544         152.720687\n",
            "9            Chinatown  161.497283         152.720687\n",
            "10         City Island  173.000000         152.720687\n",
            "11        Civic Center  191.942308         152.720687\n",
            "12        Clinton Hill  181.893357         152.720687\n",
            "13         Cobble Hill  211.929293         152.720687\n",
            "14         Columbia St  162.952381         152.720687\n",
            "15               DUMBO  196.305556         152.720687\n",
            "16        East Village  186.083108         152.720687\n",
            "17        Far Rockaway  165.862069         152.720687\n",
            "18  Financial District  225.490591         152.720687\n",
            "19   Flatiron District  341.925000         152.720687\n",
            "20      Fort Wadsworth  800.000000         152.720687\n",
            "21             Gowanus  158.801619         152.720687\n",
            "22            Gramercy  222.754438         152.720687\n",
            "23   Greenwich Village  263.405612         152.720687\n",
            "24         Grymes Hill  159.142857         152.720687\n",
            "25      Hell's Kitchen  204.794178         152.720687\n",
            "26     Jamaica Estates  182.947368         152.720687\n",
            "27            Kips Bay  202.408511         152.720687\n",
            "28     Lighthouse Hill  157.500000         152.720687\n",
            "29        Little Italy  222.066116         152.720687\n",
            "30     Lower East Side  186.312843         152.720687\n",
            "31             Midtown  282.719094         152.720687\n",
            "32          Mill Basin  179.750000         152.720687\n",
            "33         Murray Hill  220.958763         152.720687\n",
            "34            Neponsit  274.666667         152.720687\n",
            "35                NoHo  295.717949         152.720687\n",
            "36              Nolita  230.138340         152.720687\n",
            "37          Park Slope  176.312253         152.720687\n",
            "38        Prince's Bay  409.500000         152.720687\n",
            "39    Prospect Heights  173.372549         152.720687\n",
            "40       Randall Manor  336.000000         152.720687\n",
            "41           Riverdale  442.090909         152.720687\n",
            "42            Sea Gate  487.857143         152.720687\n",
            "43                SoHo  287.103352         152.720687\n",
            "44      Spuyten Duyvil  154.750000         152.720687\n",
            "45     Stuyvesant Town  169.108108         152.720687\n",
            "46    Theater District  248.013889         152.720687\n",
            "47           Todt Hill  169.000000         152.720687\n",
            "48             Tribeca  490.638418         152.720687\n",
            "49     Upper East Side  188.948276         152.720687\n",
            "50     Upper West Side  210.918316         152.720687\n",
            "51        Vinegar Hill  187.176471         152.720687\n",
            "52        West Village  267.682292         152.720687\n",
            "53         Willowbrook  249.000000         152.720687\n",
            "54             Woodrow  700.000000         152.720687\n"
          ]
        }
      ]
    },
    {
      "cell_type": "markdown",
      "source": [
        "# Section 4: Closing the Database Connection <a name=\"closing-connection\"></a>"
      ],
      "metadata": {
        "id": "CyaxVtAuDyDd"
      }
    },
    {
      "cell_type": "markdown",
      "source": [
        "### Task 4.1: Close the Cursor and Database Connection\n",
        "- It's good practice to close the cursor and the database connection when you're done working with the database to free up system resources and maintain proper connection management.\n"
      ],
      "metadata": {
        "id": "nFKyd0DbD4Ns"
      }
    },
    {
      "cell_type": "code",
      "source": [
        "# Completed\n",
        "\n",
        "# Make sure to include these lines of code at the end of your script to properly close the cursor and database connection.\n",
        "cursor.close()\n",
        "conn.close()"
      ],
      "metadata": {
        "id": "_z_H6ZsmD2GX"
      },
      "execution_count": 73,
      "outputs": []
    },
    {
      "cell_type": "markdown",
      "source": [
        "# Section 5: Summary of Basic SQL Commands <a name=\"summary-commands\"></a>"
      ],
      "metadata": {
        "id": "5tOYpl9rVXV2"
      }
    },
    {
      "cell_type": "markdown",
      "source": [
        "In this project, you have practiced various SQL commands and tasks. Below is a summary of the basic SQL commands used:\n",
        "\n",
        "**Task 1.2: Connect to the Database**\n",
        "- Established a connection to the SQLite database.\n",
        "\n",
        "**Task 2.1: Load the Dataset**\n",
        "- Loaded the dataset into a DataFrame.\n",
        "- Imported the DataFrame into the database.\n",
        "\n",
        "**Task 3.1: Using Subquery for Aggregation**\n",
        "- SQL Commands: SELECT, FROM, WHERE, Subquery, MAX(), LIMIT\n",
        "- Description: Find listings with a price greater than or equal to the maximum price of entire home/apartment listings.\n",
        "\n",
        "**Task 3.2: Using CTE for Clarity**\n",
        "- SQL Commands: WITH, Common Table Expression (CTE), SELECT, FROM, LIMIT\n",
        "- Description: Create a Common Table Expression (CTE) for high-priced listings and retrieve details.\n",
        "\n",
        "**Task 3.3: Using GROUP BY and HAVING**\n",
        "- SQL Commands: SELECT, COUNT(), AS, FROM, GROUP BY, HAVING\n",
        "- Description: Count the number of listings in each neighbourhood_group with more than 1000 listings.\n",
        "\n",
        "**Task 3.4: Using CASE Statements**\n",
        "- SQL Commands: SELECT, SUM(), CASE, WHEN, THEN, ELSE, END, AS, FROM, GROUP BY\n",
        "- Description: Calculate the count of listings in each neighborhood group categorized into three price ranges: cheap, moderate, and expensive.\n",
        "\n",
        "**Task 3.5: Using Self-Join for Data Comparison**\n",
        "- SQL Commands: WITH, Common Table Expression (CTE), SELECT, AVG(), AS, INNER JOIN, ON, Self-Join, WHERE\n",
        "- Description: Compare the average price of each neighborhood's listings with the overall average price, highlighting neighborhoods with prices higher than the overall average.\n",
        "\n",
        "**Task 4.1: Close the Cursor and Database Connection**\n",
        "- Closed the cursor and the database connection.\n",
        "\n",
        "This summary provides an overview of the intermediate SQL commands used in this project. You can use this as a reference for future SQL projects and data analysis tasks."
      ],
      "metadata": {
        "id": "wS_xxvBKVTha"
      }
    }
  ]
}